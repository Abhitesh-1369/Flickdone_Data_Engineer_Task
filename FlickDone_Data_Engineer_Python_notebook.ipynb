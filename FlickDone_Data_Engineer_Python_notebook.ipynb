{
  "nbformat": 4,
  "nbformat_minor": 0,
  "metadata": {
    "colab": {
      "provenance": [],
      "collapsed_sections": [
        "6fsBcFRnY68X",
        "rQs2cpSRZFE5",
        "7v6D8triZp06",
        "9VThoxk1X_IH",
        "BzDoBUDeWoYv"
      ]
    },
    "kernelspec": {
      "name": "python3",
      "display_name": "Python 3"
    },
    "language_info": {
      "name": "python"
    }
  },
  "cells": [
    {
      "cell_type": "markdown",
      "source": [
        " **Assessment Task: Designing a Data Pipeline for Braille AI Using Unstructured Documents**"
      ],
      "metadata": {
        "id": "N3T6PKsXU8QL"
      }
    },
    {
      "cell_type": "markdown",
      "source": [
        "This notebook implements a simplified ETL pipeline to convert scanned book PDFs into a Braille-parallel corpus for training AI models.  \n",
        "The steps include:\n",
        "\n",
        "- Data Collection\n",
        "- OCR Text Extraction & Cleaning  \n",
        "- Structuring Extracted Text  \n",
        "- Braille Translation  \n",
        "- Parallel Corpus Generation  \n",
        "- Final Data Export  "
      ],
      "metadata": {
        "id": "gj1SMzTyVKHt"
      }
    },
    {
      "cell_type": "markdown",
      "source": [
        "# Installing Required Libraries"
      ],
      "metadata": {
        "id": "6fsBcFRnY68X"
      }
    },
    {
      "cell_type": "code",
      "source": [
        "!apt install tesseract-ocr -y\n",
        "!pip install pytesseract"
      ],
      "metadata": {
        "colab": {
          "base_uri": "https://localhost:8080/"
        },
        "id": "--RvwinE7bN3",
        "outputId": "7633e10e-e767-4a89-cee2-2185819ae48d",
        "collapsed": true
      },
      "execution_count": 2,
      "outputs": [
        {
          "output_type": "stream",
          "name": "stdout",
          "text": [
            "Reading package lists... Done\n",
            "Building dependency tree... Done\n",
            "Reading state information... Done\n",
            "tesseract-ocr is already the newest version (4.1.1-2.1build1).\n",
            "0 upgraded, 0 newly installed, 0 to remove and 34 not upgraded.\n",
            "Collecting pytesseract\n",
            "  Downloading pytesseract-0.3.13-py3-none-any.whl.metadata (11 kB)\n",
            "Requirement already satisfied: packaging>=21.3 in /usr/local/lib/python3.11/dist-packages (from pytesseract) (24.2)\n",
            "Requirement already satisfied: Pillow>=8.0.0 in /usr/local/lib/python3.11/dist-packages (from pytesseract) (11.2.1)\n",
            "Downloading pytesseract-0.3.13-py3-none-any.whl (14 kB)\n",
            "Installing collected packages: pytesseract\n",
            "Successfully installed pytesseract-0.3.13\n"
          ]
        }
      ]
    },
    {
      "cell_type": "code",
      "source": [
        "!pip install pdf2image Pillow"
      ],
      "metadata": {
        "colab": {
          "base_uri": "https://localhost:8080/"
        },
        "id": "Zh0lzeMY7fHA",
        "outputId": "b6a8e880-c926-4e77-c07d-c2c7798bcab3"
      },
      "execution_count": 3,
      "outputs": [
        {
          "output_type": "stream",
          "name": "stdout",
          "text": [
            "Collecting pdf2image\n",
            "  Downloading pdf2image-1.17.0-py3-none-any.whl.metadata (6.2 kB)\n",
            "Requirement already satisfied: Pillow in /usr/local/lib/python3.11/dist-packages (11.2.1)\n",
            "Downloading pdf2image-1.17.0-py3-none-any.whl (11 kB)\n",
            "Installing collected packages: pdf2image\n",
            "Successfully installed pdf2image-1.17.0\n"
          ]
        }
      ]
    },
    {
      "cell_type": "code",
      "source": [
        "!apt install tesseract-ocr-hin -y"
      ],
      "metadata": {
        "colab": {
          "base_uri": "https://localhost:8080/"
        },
        "id": "cy-9AdNG7iFu",
        "outputId": "4b245abb-c3be-412e-ff67-4263c9cac7bb"
      },
      "execution_count": 4,
      "outputs": [
        {
          "output_type": "stream",
          "name": "stdout",
          "text": [
            "Reading package lists... Done\n",
            "Building dependency tree... Done\n",
            "Reading state information... Done\n",
            "The following NEW packages will be installed:\n",
            "  tesseract-ocr-hin\n",
            "0 upgraded, 1 newly installed, 0 to remove and 34 not upgraded.\n",
            "Need to get 913 kB of archives.\n",
            "After this operation, 1,138 kB of additional disk space will be used.\n",
            "Get:1 http://archive.ubuntu.com/ubuntu jammy/universe amd64 tesseract-ocr-hin all 1:4.00~git30-7274cfa-1.1 [913 kB]\n",
            "Fetched 913 kB in 2s (563 kB/s)\n",
            "Selecting previously unselected package tesseract-ocr-hin.\n",
            "(Reading database ... 126102 files and directories currently installed.)\n",
            "Preparing to unpack .../tesseract-ocr-hin_1%3a4.00~git30-7274cfa-1.1_all.deb ...\n",
            "Unpacking tesseract-ocr-hin (1:4.00~git30-7274cfa-1.1) ...\n",
            "Setting up tesseract-ocr-hin (1:4.00~git30-7274cfa-1.1) ...\n"
          ]
        }
      ]
    },
    {
      "cell_type": "code",
      "source": [
        "!apt install poppler-utils -y"
      ],
      "metadata": {
        "colab": {
          "base_uri": "https://localhost:8080/"
        },
        "id": "9uCrkWR6GZgu",
        "outputId": "b1614870-4b3a-425d-f581-0c2b38d9b029"
      },
      "execution_count": 5,
      "outputs": [
        {
          "output_type": "stream",
          "name": "stdout",
          "text": [
            "Reading package lists... Done\n",
            "Building dependency tree... Done\n",
            "Reading state information... Done\n",
            "The following NEW packages will be installed:\n",
            "  poppler-utils\n",
            "0 upgraded, 1 newly installed, 0 to remove and 34 not upgraded.\n",
            "Need to get 186 kB of archives.\n",
            "After this operation, 697 kB of additional disk space will be used.\n",
            "Get:1 http://archive.ubuntu.com/ubuntu jammy-updates/main amd64 poppler-utils amd64 22.02.0-2ubuntu0.8 [186 kB]\n",
            "Fetched 186 kB in 2s (107 kB/s)\n",
            "Selecting previously unselected package poppler-utils.\n",
            "(Reading database ... 126106 files and directories currently installed.)\n",
            "Preparing to unpack .../poppler-utils_22.02.0-2ubuntu0.8_amd64.deb ...\n",
            "Unpacking poppler-utils (22.02.0-2ubuntu0.8) ...\n",
            "Setting up poppler-utils (22.02.0-2ubuntu0.8) ...\n",
            "Processing triggers for man-db (2.10.2-1) ...\n"
          ]
        }
      ]
    },
    {
      "cell_type": "code",
      "source": [
        "!apt-get update\n",
        "!apt-get install liblouis-bin"
      ],
      "metadata": {
        "colab": {
          "base_uri": "https://localhost:8080/"
        },
        "id": "FodU27UGJH0E",
        "outputId": "353ee59a-ef59-4be3-f44f-ff2de62e99d7",
        "collapsed": true
      },
      "execution_count": 6,
      "outputs": [
        {
          "output_type": "stream",
          "name": "stdout",
          "text": [
            "\r0% [Working]\r            \rGet:1 https://cloud.r-project.org/bin/linux/ubuntu jammy-cran40/ InRelease [3,632 B]\n",
            "Get:2 https://developer.download.nvidia.com/compute/cuda/repos/ubuntu2204/x86_64  InRelease [1,581 B]\n",
            "Hit:3 http://archive.ubuntu.com/ubuntu jammy InRelease\n",
            "Get:4 https://r2u.stat.illinois.edu/ubuntu jammy InRelease [6,555 B]\n",
            "Get:5 http://archive.ubuntu.com/ubuntu jammy-updates InRelease [128 kB]\n",
            "Get:6 https://developer.download.nvidia.com/compute/cuda/repos/ubuntu2204/x86_64  Packages [1,683 kB]\n",
            "Get:7 http://security.ubuntu.com/ubuntu jammy-security InRelease [129 kB]\n",
            "Hit:8 https://ppa.launchpadcontent.net/deadsnakes/ppa/ubuntu jammy InRelease\n",
            "Get:9 https://ppa.launchpadcontent.net/graphics-drivers/ppa/ubuntu jammy InRelease [24.3 kB]\n",
            "Get:10 http://archive.ubuntu.com/ubuntu jammy-backports InRelease [127 kB]\n",
            "Get:11 https://r2u.stat.illinois.edu/ubuntu jammy/main amd64 Packages [2,728 kB]\n",
            "Get:12 https://ppa.launchpadcontent.net/ubuntugis/ppa/ubuntu jammy InRelease [24.6 kB]\n",
            "Get:13 http://security.ubuntu.com/ubuntu jammy-security/universe amd64 Packages [1,245 kB]\n",
            "Get:14 https://r2u.stat.illinois.edu/ubuntu jammy/main all Packages [8,964 kB]\n",
            "Get:15 http://security.ubuntu.com/ubuntu jammy-security/main amd64 Packages [2,944 kB]\n",
            "Get:16 http://security.ubuntu.com/ubuntu jammy-security/restricted amd64 Packages [4,387 kB]\n",
            "Get:17 http://archive.ubuntu.com/ubuntu jammy-updates/main amd64 Packages [3,255 kB]\n",
            "Get:18 https://ppa.launchpadcontent.net/graphics-drivers/ppa/ubuntu jammy/main amd64 Packages [46.6 kB]\n",
            "Get:19 https://ppa.launchpadcontent.net/ubuntugis/ppa/ubuntu jammy/main amd64 Packages [77.3 kB]\n",
            "Get:20 http://archive.ubuntu.com/ubuntu jammy-updates/universe amd64 Packages [1,552 kB]\n",
            "Get:21 http://archive.ubuntu.com/ubuntu jammy-updates/restricted amd64 Packages [4,540 kB]\n",
            "Get:22 http://archive.ubuntu.com/ubuntu jammy-backports/universe amd64 Packages [35.2 kB]\n",
            "Get:23 http://archive.ubuntu.com/ubuntu jammy-backports/main amd64 Packages [83.2 kB]\n",
            "Fetched 32.0 MB in 3s (9,329 kB/s)\n",
            "Reading package lists... Done\n",
            "W: Skipping acquire of configured file 'main/source/Sources' as repository 'https://r2u.stat.illinois.edu/ubuntu jammy InRelease' does not seem to provide it (sources.list entry misspelt?)\n",
            "Reading package lists... Done\n",
            "Building dependency tree... Done\n",
            "Reading state information... Done\n",
            "The following additional packages will be installed:\n",
            "  liblouis-data liblouis20\n",
            "The following NEW packages will be installed:\n",
            "  liblouis-bin liblouis-data liblouis20\n",
            "0 upgraded, 3 newly installed, 0 to remove and 93 not upgraded.\n",
            "Need to get 2,126 kB of archives.\n",
            "After this operation, 11.3 MB of additional disk space will be used.\n",
            "Get:1 http://archive.ubuntu.com/ubuntu jammy-updates/main amd64 liblouis-data all 3.20.0-2ubuntu0.2 [1,993 kB]\n",
            "Get:2 http://archive.ubuntu.com/ubuntu jammy-updates/main amd64 liblouis20 amd64 3.20.0-2ubuntu0.2 [87.6 kB]\n",
            "Get:3 http://archive.ubuntu.com/ubuntu jammy-updates/universe amd64 liblouis-bin amd64 3.20.0-2ubuntu0.2 [46.4 kB]\n",
            "Fetched 2,126 kB in 1s (2,137 kB/s)\n",
            "Selecting previously unselected package liblouis-data.\n",
            "(Reading database ... 126136 files and directories currently installed.)\n",
            "Preparing to unpack .../liblouis-data_3.20.0-2ubuntu0.2_all.deb ...\n",
            "Unpacking liblouis-data (3.20.0-2ubuntu0.2) ...\n",
            "Selecting previously unselected package liblouis20:amd64.\n",
            "Preparing to unpack .../liblouis20_3.20.0-2ubuntu0.2_amd64.deb ...\n",
            "Unpacking liblouis20:amd64 (3.20.0-2ubuntu0.2) ...\n",
            "Selecting previously unselected package liblouis-bin.\n",
            "Preparing to unpack .../liblouis-bin_3.20.0-2ubuntu0.2_amd64.deb ...\n",
            "Unpacking liblouis-bin (3.20.0-2ubuntu0.2) ...\n",
            "Setting up liblouis-data (3.20.0-2ubuntu0.2) ...\n",
            "Setting up liblouis20:amd64 (3.20.0-2ubuntu0.2) ...\n",
            "Setting up liblouis-bin (3.20.0-2ubuntu0.2) ...\n",
            "Processing triggers for man-db (2.10.2-1) ...\n",
            "Processing triggers for libc-bin (2.35-0ubuntu3.8) ...\n",
            "/sbin/ldconfig.real: /usr/local/lib/libumf.so.0 is not a symbolic link\n",
            "\n",
            "/sbin/ldconfig.real: /usr/local/lib/libtcm_debug.so.1 is not a symbolic link\n",
            "\n",
            "/sbin/ldconfig.real: /usr/local/lib/libtbbbind.so.3 is not a symbolic link\n",
            "\n",
            "/sbin/ldconfig.real: /usr/local/lib/libhwloc.so.15 is not a symbolic link\n",
            "\n",
            "/sbin/ldconfig.real: /usr/local/lib/libtbbbind_2_5.so.3 is not a symbolic link\n",
            "\n",
            "/sbin/ldconfig.real: /usr/local/lib/libtbb.so.12 is not a symbolic link\n",
            "\n",
            "/sbin/ldconfig.real: /usr/local/lib/libur_adapter_level_zero.so.0 is not a symbolic link\n",
            "\n",
            "/sbin/ldconfig.real: /usr/local/lib/libtbbmalloc.so.2 is not a symbolic link\n",
            "\n",
            "/sbin/ldconfig.real: /usr/local/lib/libtbbbind_2_0.so.3 is not a symbolic link\n",
            "\n",
            "/sbin/ldconfig.real: /usr/local/lib/libtcm.so.1 is not a symbolic link\n",
            "\n",
            "/sbin/ldconfig.real: /usr/local/lib/libur_adapter_opencl.so.0 is not a symbolic link\n",
            "\n",
            "/sbin/ldconfig.real: /usr/local/lib/libtbbmalloc_proxy.so.2 is not a symbolic link\n",
            "\n",
            "/sbin/ldconfig.real: /usr/local/lib/libur_loader.so.0 is not a symbolic link\n",
            "\n"
          ]
        }
      ]
    },
    {
      "cell_type": "code",
      "source": [
        "!git clone https://github.com/liblouis/liblouis.git"
      ],
      "metadata": {
        "colab": {
          "base_uri": "https://localhost:8080/"
        },
        "id": "yYygQkCDKujX",
        "outputId": "01e05f9a-d9fc-4e69-a060-f699f8545a03"
      },
      "execution_count": 8,
      "outputs": [
        {
          "output_type": "stream",
          "name": "stdout",
          "text": [
            "Cloning into 'liblouis'...\n",
            "remote: Enumerating objects: 41314, done.\u001b[K\n",
            "remote: Counting objects: 100% (441/441), done.\u001b[K\n",
            "remote: Compressing objects: 100% (216/216), done.\u001b[K\n",
            "remote: Total 41314 (delta 341), reused 228 (delta 224), pack-reused 40873 (from 2)\u001b[K\n",
            "Receiving objects: 100% (41314/41314), 102.46 MiB | 24.10 MiB/s, done.\n",
            "Resolving deltas: 100% (30206/30206), done.\n"
          ]
        }
      ]
    },
    {
      "cell_type": "code",
      "source": [
        "!ls /content/liblouis/tables"
      ],
      "metadata": {
        "colab": {
          "base_uri": "https://localhost:8080/"
        },
        "id": "dMHnoDzZKynp",
        "outputId": "5f38811c-dcee-4536-f098-faa7ad0b265a",
        "collapsed": true
      },
      "execution_count": 9,
      "outputs": [
        {
          "output_type": "stream",
          "name": "stdout",
          "text": [
            "afr-za-g1.ctb\t\t\t       IPA.utb\n",
            "afr-za-g2.ctb\t\t\t       is-chardefs6.cti\n",
            "akk-borger.utb\t\t\t       is-chardefs8.cti\n",
            "akk.utb\t\t\t\t       is.ctb\n",
            "ancient-languages-borger.utb\t       is.tbl\n",
            "ancient-languages-us.utb\t       it-it-comp6.utb\n",
            "ar-ar-comp8.utb\t\t\t       it-it-comp8.utb\n",
            "ar-ar-g1-core.uti\t\t       it.tbl\n",
            "ar-ar-g1.utb\t\t\t       iu-ca-g1.ctb\n",
            "ar-ar-g2.ctb\t\t\t       ja-kantenji-ucs2.utb\n",
            "ar-ar-math.uti\t\t\t       ja-kantenji.utb\n",
            "ar.tbl\t\t\t\t       ka-in-g1.utb\n",
            "as-in-g1.utb\t\t\t       kannada.cti\n",
            "as.tbl\t\t\t\t       ka.utb\n",
            "awa.tbl\t\t\t\t       kha.tbl\n",
            "aw-in-g1.utb\t\t\t       kh-in-g1.utb\n",
            "ba.utb\t\t\t\t       kk.utb\n",
            "be-in-g1.utb\t\t\t       km-g1.utb\n",
            "bel-comp.utb\t\t\t       kmr.tbl\n",
            "bel-detailed.utb\t\t       kn.tbl\n",
            "bel.utb\t\t\t\t       ko-2006.cti\n",
            "bengali.cti\t\t\t       ko-2006-g1.ctb\n",
            "bg.ctb\t\t\t\t       ko-2006-g2.ctb\n",
            "bg.dis\t\t\t\t       ko-chars.cti\n",
            "bg.tbl\t\t\t\t       ko.cti\n",
            "bg.utb\t\t\t\t       ko-g1.ctb\n",
            "bh.ctb\t\t\t\t       ko-g1-rules.cti\n",
            "bh.tbl\t\t\t\t       ko-g2.ctb\n",
            "bn.tbl\t\t\t\t       ko-g2-rules.cti\n",
            "bo.ctb\t\t\t\t       kok.ctb\n",
            "bo.tbl\t\t\t\t       kok.tbl\n",
            "boxes.ctb\t\t\t       kru.ctb\n",
            "braille-patterns.cti\t\t       kru.tbl\n",
            "bra.tbl\t\t\t\t       ks-in-g1.utb\n",
            "br-in-g1.utb\t\t\t       latinLetterDef6Dots.uti\n",
            "ca-chardefs.cti\t\t\t       latinLetterDef8Dots.uti\n",
            "ca-g1.ctb\t\t\t       latinLowercase.uti\n",
            "ca.tbl\t\t\t\t       latinUppercaseComp6.uti\n",
            "chr-us-g1.ctb\t\t\t       lg-ug-g1.utb\n",
            "ckb-chardefs.cti\t\t       litdigits6DotsPlusDot6.uti\n",
            "ckb-g1.ctb\t\t\t       litdigits6Dots.uti\n",
            "ckb.tbl\t\t\t\t       lo-g1.utb\n",
            "ckb-translation.cti\t\t       loweredDigits6Dots.uti\n",
            "compress.cti\t\t\t       loweredDigits8Dots.uti\n",
            "controlchars.cti\t\t       lt-6dot.tbl\n",
            "cop-eg-comp8.utb\t\t       lt-6dot.utb\n",
            "cop.utb\t\t\t\t       lt.ctb\n",
            "corrections.cti\t\t\t       lt.tbl\n",
            "countries.cti\t\t\t       Lv-Lv-g1.utb\n",
            "critical-apparatus.uti\t\t       lv.tbl\n",
            "cs-chardefs.cti\t\t\t       Makefile.am\n",
            "cs-comp8.utb\t\t\t       maketablelist.sh\n",
            "cs-g1.ctb\t\t\t       malayalam.cti\n",
            "cs.tbl\t\t\t\t       mao-nz-g1.ctb\n",
            "cs-translation.cti\t\t       marburg_single_cell_defs.cti\n",
            "cuneiform-transliterated-compact.utb   marburg_unicode_defs.cti\n",
            "cuneiform-transliterated.utb\t       ml-in-g1.utb\n",
            "cy-cy-g1.utb\t\t\t       ml.tbl\n",
            "cy-cy-g2.ctb\t\t\t       mn-in-g1.utb\n",
            "cy.tbl\t\t\t\t       mni.tbl\n",
            "da-dk-6miscChars_1993.cti\t       mn-MN-common.cti\n",
            "da-dk-6miscChars.cti\t\t       mn-MN-g1.utb\n",
            "da-dk-8miscChars_1993.cti\t       mn-MN-g2.ctb\n",
            "da-dk-8miscChars.cti\t\t       mr-in-g1.utb\n",
            "da-dk-g08_1993.ctb\t\t       mr.tbl\n",
            "da-dk-g08.ctb\t\t\t       ms-my-g2.ctb\n",
            "da-dk-g16_1993.ctb\t\t       mt.ctb\n",
            "da-dk-g16.ctb\t\t\t       mt.tbl\n",
            "da-dk-g16-lit_1993.ctb\t\t       mun.ctb\n",
            "da-dk-g18_1993.ctb\t\t       mun.tbl\n",
            "da-dk-g18.ctb\t\t\t       mwr.ctb\n",
            "da-dk-g26_1993.ctb\t\t       mwr.tbl\n",
            "da-dk-g26.ctb\t\t\t       my-g1.utb\n",
            "da-dk-g26l_1993.ctb\t\t       my-g2.ctb\n",
            "da-dk-g26-lit_1993.ctb\t\t       ne.ctb\n",
            "da-dk-g26l-lit_1993.ctb\t\t       nemethdefs.cti\n",
            "da-dk-g28_1993.ctb\t\t       ne.tbl\n",
            "da-dk-g28.ctb\t\t\t       nl-BE.dis\n",
            "da-dk-g28l_1993.ctb\t\t       nl-chardefs.uti.in\n",
            "da-dk-g2.dic\t\t\t       nl-comp8.utb\n",
            "da-dk-octobraille_1993.dis\t       nl-NL-g0.utb.in\n",
            "da-dk-octobraille.dis\t\t       nl-print.dis\n",
            "de-accents.cti\t\t\t       nl-unicode.dis\n",
            "de-accents-detailed.cti\t\t       no-no-8dot-fallback-6dot-g0.utb\n",
            "de-chardefs6.cti\t\t       no-no-8dot.utb\n",
            "de-chardefs8.cti\t\t       no-no-braillo-047-01.dis\n",
            "de-chess.ctb\t\t\t       no-no-chardefs6.uti\n",
            "de-comp6.utb\t\t\t       no-no-comp8.ctb\n",
            "de-de-comp8.ctb\t\t\t       no-no.dis\n",
            "de-de.dis\t\t\t       no-no-g0.utb\n",
            "de-eurobrl6.dis\t\t\t       no-no-g1.ctb\n",
            "de-eurobrl6u.dis\t\t       no-no-g2.ctb\n",
            "de-g0-core.uti\t\t\t       no-no-g3.ctb\n",
            "de-g0-detailed.utb\t\t       no-no-generic.ctb\n",
            "de-g0.utb\t\t\t       no-no-generic.dis\n",
            "de-g1-core.cti\t\t\t       no-no-latinLetterDef6Dots_diacritics.uti\n",
            "de-g1-core-patterns.dic\t\t       np-in-g1.utb\n",
            "de-g1.ctb\t\t\t       nso-za-g1.utb\n",
            "de-g1-detailed.ctb\t\t       nso-za-g2.ctb\n",
            "de-g2-core.cti\t\t\t       ny-mw.utb\n",
            "de-g2-core-patterns.dic\t\t       or-in-g1.utb\n",
            "de-g2.ctb\t\t\t       oriya.cti\n",
            "de-g2-detailed.ctb\t\t       or.tbl\n",
            "devanagari.cti\t\t\t       pa.tbl\n",
            "digits6DotsPlusDot6.uti\t\t       pi.ctb\n",
            "digits6Dots.uti\t\t\t       pi.tbl\n",
            "digits8Dots.uti\t\t\t       pl-pl-comp8.ctb\n",
            "dra.ctb\t\t\t\t       Pl-Pl-g1.utb\n",
            "dra.tbl\t\t\t\t       pl.tbl\n",
            "el.ctb\t\t\t\t       printables.cti\n",
            "en_CA.ctb\t\t\t       pt-comp6.utb\n",
            "en_CA.tbl\t\t\t       pt-pt-comp8.ctb\n",
            "en-chardefs.cti\t\t\t       pt-pt-g1.utb\n",
            "en-chess.ctb\t\t\t       pt-pt-g2.ctb\n",
            "en-gb-comp8.ctb\t\t\t       pt.tbl\n",
            "en-gb-g1.utb\t\t\t       pu-in-g1.utb\n",
            "en-GB-g2.ctb\t\t\t       README\n",
            "en_GB.tbl\t\t\t       ro.ctb\n",
            "en-in-g1.ctb\t\t\t       ro-g0.utb\n",
            "en-nabcc.utb\t\t\t       ro.tbl\n",
            "en-ueb-chardefs.uti\t\t       ru-brf.dis\n",
            "en-ueb-g1.ctb\t\t\t       ru-compbrl.ctb\n",
            "en-ueb-g2.ctb\t\t\t       ru.ctb\n",
            "en-ueb-math.ctb\t\t\t       ru-letters.dis\n",
            "en-us-brf.dis\t\t\t       ru-litbrl.ctb\n",
            "en-us-comp6.ctb\t\t\t       ru-litbrl-detailed.utb\n",
            "en-us-comp8.ctb\t\t\t       ru-ru-g1.ctb\n",
            "en_US-comp8-ext.tbl\t\t       ru-unicode.dis\n",
            "en-us-comp8-ext.utb\t\t       rw-rw-g1.utb\n",
            "en-us-compbrl.uti\t\t       sah.utb\n",
            "en-us-emphasis.uti\t\t       sa-in-g1.utb\n",
            "en-us-g1.ctb\t\t\t       sa.tbl\n",
            "en-us-g2.ctb\t\t\t       sd.tbl\n",
            "en-us-interline.ctb\t\t       se-se.ctb\n",
            "en-us-mathtext.ctb\t\t       se-se.dis\n",
            "en_US.tbl\t\t\t       si-in-g1.utb\n",
            "eo-g1.ctb\t\t\t       sin.cti\n",
            "eo-g1-x-system.ctb\t\t       sin.utb\n",
            "eo.tbl\t\t\t\t       sk-g1.ctb\n",
            "es-chardefs.cti\t\t\t       sk-sk-g1.utb\n",
            "Es-Es-G0.utb\t\t\t       sk-sk.utb\n",
            "es-g1.ctb\t\t\t       sl-si-comp8.ctb\n",
            "es-g2.ctb\t\t\t       sl-si-g1.utb\n",
            "es-new.dis\t\t\t       sl.tbl\n",
            "es-old.dis\t\t\t       sot-za-g1.ctb\n",
            "es.tbl\t\t\t\t       sot-za-g2.ctb\n",
            "et.ctb\t\t\t\t       spaces.uti\n",
            "et-g0.utb\t\t\t       sr-common.cti\n",
            "ethio-g1.ctb\t\t\t       sr-Cyrl.ctb\n",
            "et.tbl\t\t\t\t       sr-cyrletters.cti\n",
            "eurodefs.cti\t\t\t       sr-g1.ctb\n",
            "fa-ir-comp8.ctb\t\t\t       sr-latletters.cti\n",
            "fa-ir-g1.utb\t\t\t       sv-1989.ctb\n",
            "fi-fi-8dot.ctb\t\t\t       sv-1996.ctb\n",
            "fil-g2.ctb\t\t\t       sv-g0.utb\n",
            "fi.utb\t\t\t\t       sv-g1.ctb\n",
            "fr-bfu-comp68.cti\t\t       sv-g2.ctb\n",
            "fr-bfu-comp6.utb\t\t       sw-ke-g1-2.ctb\n",
            "fr-bfu-comp8.utb\t\t       sw-ke-g1-3.ctb\n",
            "fr-bfu-g2.ctb\t\t\t       sw-ke-g1-4.ctb\n",
            "ga-g1.utb\t\t\t       sw-ke-g1-5.ctb\n",
            "ga-g2.ctb\t\t\t       sw-ke-g1.utb\n",
            "gd.ctb\t\t\t\t       sw-ke-g2.ctb\n",
            "gd.tbl\t\t\t\t       syc.utb\n",
            "gez.tbl\t\t\t\t       ta.ctb\n",
            "gon.ctb\t\t\t\t       tamil.cti\n",
            "gon.tbl\t\t\t\t       ta-ta-g1.ctb\n",
            "grc-international-common.uti\t       ta.tbl\n",
            "grc-international-composed.uti\t       te-in-g1.utb\n",
            "grc-international-decomposed.uti       telugu.cti\n",
            "grc-international-en-composed.utb      te.tbl\n",
            "grc-international-en.utb\t       text_nabcc.dis\n",
            "grc-international-es.utb\t       th-comp8-backward.utb\n",
            "gr-pl-comp8.uti\t\t\t       th-g0.utb\n",
            "gu-in-g1.utb\t\t\t       th-g1.utb\n",
            "gujarati.cti\t\t\t       tr.ctb\n",
            "gurumuki.cti\t\t\t       tr-g1.ctb\n",
            "gu.tbl\t\t\t\t       tr-g2.ctb\n",
            "haw-us-g1.ctb\t\t\t       tr-g2.tbl\n",
            "hbo.utb\t\t\t\t       tr.tbl\n",
            "he-common-consonants.uti\t       tsn-za-g1.ctb\n",
            "he-common-vowels-ihbc.uti\t       tsn-za-g2.ctb\n",
            "he-IL-comp8.utb\t\t\t       tt.utb\n",
            "he-IL.utb\t\t\t       uga.utb\n",
            "hi-in-g1.utb\t\t\t       ukchardefs.cti\n",
            "hi.tbl\t\t\t\t       uk-comp.utb\n",
            "hr-chardefs.cti\t\t\t       uk-detailed.utb\n",
            "hr-comp8.tbl\t\t\t       ukmaths_single_cell_defs.cti\n",
            "hr-comp8.utb\t\t\t       ukmaths_unicode_defs.cti\n",
            "hr-digits.uti\t\t\t       uk.utb\n",
            "hr-g1.ctb\t\t\t       unicode-braille.utb\n",
            "hr-g1.tbl\t\t\t       unicode.dis\n",
            "hr-translation.cti\t\t       unicode-without-blank.dis\n",
            "hu-backtranslate-correction.dis        uni-text.dis\n",
            "hu-backtranslate-word-corrections.cti  ur-pk-g1.utb\n",
            "hu-chardefs.cti\t\t\t       ur-pk-g2.ctb\n",
            "hu-exceptionwords.cti\t\t       us-table.dis\n",
            "hu-hu-comp8.ctb\t\t\t       uz-g1.utb\n",
            "hu-hu-g1_braille_input.cti\t       ve-za-g1.utb\n",
            "hu-hu-g1.ctb\t\t\t       ve-za-g2.ctb\n",
            "hu-hu-g2.ctb\t\t\t       vi-cb8.utb\n",
            "hu-hu-g2_exceptions.cti\t\t       vi-charsdef.uti\n",
            "hu.tbl\t\t\t\t       vi-lettersdef.uti\n",
            "hy.ctb\t\t\t\t       vi-puncsdef.uti\n",
            "hyph_cs_CZ.dic\t\t\t       vi-saigon-g1.ctb\n",
            "hyph_da_DK.dic\t\t\t       vi-vn-g0.utb\n",
            "hyph_de_DE.dic\t\t\t       vi-vn-g1.ctb\n",
            "hyph_en_US.dic\t\t\t       vi-vn-g2.ctb\n",
            "hyph_eo.dic\t\t\t       wiskunde-chardefs.cti\n",
            "hyph_es_ES.dic\t\t\t       wordcx.dis\n",
            "hyph_fr_FR.dic\t\t\t       xh-za-g1.utb\n",
            "hyph_hu_HU.dic\t\t\t       xh-za-g2.ctb\n",
            "hyph_it_IT.dic\t\t\t       yi.utb\n",
            "hyph_nb_NO.dic\t\t\t       zh-chn.ctb\n",
            "hyph_nl_NL.dic\t\t\t       zh_CHN.tbl\n",
            "hyph_nn_NO.dic\t\t\t       zhcn-cbs.ctb\n",
            "hyph_pl_PL.dic\t\t\t       zhcn-g1.ctb\n",
            "hyph_pt_PT.dic\t\t\t       zhcn-g2.ctb\n",
            "hyph_ru.dic\t\t\t       zh-hk.ctb\n",
            "hyph_sv_SE.dic\t\t\t       zh-tw.ctb\n",
            "hy.tbl\t\t\t\t       zu-za-g1.utb\n",
            "IPA-unicode-range.uti\t\t       zu-za-g2.ctb\n"
          ]
        }
      ]
    },
    {
      "cell_type": "code",
      "source": [
        "!mkdir -p /content/data/raw_pdfs"
      ],
      "metadata": {
        "id": "SuanpJFAEu-c"
      },
      "execution_count": 1,
      "outputs": []
    },
    {
      "cell_type": "code",
      "source": [
        "import os\n",
        "import json\n",
        "import pytesseract\n",
        "from PIL import Image\n",
        "from pdf2image import convert_from_path\n",
        "import re"
      ],
      "metadata": {
        "id": "EUd6mchp7lk-"
      },
      "execution_count": 10,
      "outputs": []
    },
    {
      "cell_type": "code",
      "source": [
        "pytesseract.pytesseract.tesseract_cmd = \"/usr/bin/tesseract\""
      ],
      "metadata": {
        "id": "PSIW0ltEFoOz"
      },
      "execution_count": 11,
      "outputs": []
    },
    {
      "cell_type": "markdown",
      "source": [
        "# Data Extraction"
      ],
      "metadata": {
        "id": "rQs2cpSRZFE5"
      }
    },
    {
      "cell_type": "markdown",
      "source": [
        "**Taking 10 Samples From each PDF(data)**"
      ],
      "metadata": {
        "id": "trlG3g7ZaEwf"
      }
    },
    {
      "cell_type": "code",
      "source": [
        "def ocr_pdf_to_text(pdf_path, max_pages=10):\n",
        "    print(f\"\\nProcessing: {pdf_path}\")\n",
        "    images = convert_from_path(pdf_path, dpi=300, first_page=1, last_page=max_pages)\n",
        "\n",
        "    all_text = \"\"\n",
        "    for i, img in enumerate(images):\n",
        "        print(f\"  OCR on page {i+1}...\")\n",
        "        text = pytesseract.image_to_string(img, lang='eng')\n",
        "\n",
        "        text = re.sub(r'\\s+', ' ', text)\n",
        "        text = re.sub(r'[^\\x00-\\x7F]+', '', text)\n",
        "        text = text.strip()\n",
        "\n",
        "        all_text += text + \"\\n\\n\"\n",
        "\n",
        "    return all_text"
      ],
      "metadata": {
        "id": "HwzTOoPnGIuM"
      },
      "execution_count": 12,
      "outputs": []
    },
    {
      "cell_type": "markdown",
      "source": [
        "**Extracting Data**"
      ],
      "metadata": {
        "id": "WgVZA0blaRvh"
      }
    },
    {
      "cell_type": "code",
      "source": [
        "from IPython import get_ipython\n",
        "from IPython.display import display"
      ],
      "metadata": {
        "id": "8YRGGQMjGhbJ"
      },
      "execution_count": 13,
      "outputs": []
    },
    {
      "cell_type": "code",
      "source": [
        "pdf_dir = \"/content/data/raw_pdfs\"\n",
        "ocr_outputs = {}\n",
        "\n",
        "for filename in os.listdir(pdf_dir):\n",
        "    if filename.lower().endswith(\".pdf\"):\n",
        "        pdf_path = os.path.join(pdf_dir, filename)\n",
        "        text = ocr_pdf_to_text(pdf_path)\n",
        "        ocr_outputs[filename] = text"
      ],
      "metadata": {
        "colab": {
          "base_uri": "https://localhost:8080/"
        },
        "id": "D3Tb61ABGRd1",
        "outputId": "462dddeb-4dd6-434d-e9a9-a13d937d0aeb"
      },
      "execution_count": 14,
      "outputs": [
        {
          "output_type": "stream",
          "name": "stdout",
          "text": [
            "\n",
            "Processing: /content/data/raw_pdfs/orwell1984.pdf\n",
            "  OCR on page 1...\n",
            "  OCR on page 2...\n",
            "  OCR on page 3...\n",
            "  OCR on page 4...\n",
            "  OCR on page 5...\n",
            "  OCR on page 6...\n",
            "  OCR on page 7...\n",
            "  OCR on page 8...\n",
            "  OCR on page 9...\n",
            "  OCR on page 10...\n",
            "\n",
            "Processing: /content/data/raw_pdfs/Animal Farm by George Orwell.pdf\n",
            "  OCR on page 1...\n",
            "  OCR on page 2...\n",
            "  OCR on page 3...\n",
            "  OCR on page 4...\n",
            "  OCR on page 5...\n",
            "  OCR on page 6...\n",
            "  OCR on page 7...\n",
            "  OCR on page 8...\n",
            "  OCR on page 9...\n",
            "  OCR on page 10...\n",
            "\n",
            "Processing: /content/data/raw_pdfs/The Martian.pdf\n",
            "  OCR on page 1...\n",
            "  OCR on page 2...\n",
            "  OCR on page 3...\n",
            "  OCR on page 4...\n",
            "  OCR on page 5...\n",
            "  OCR on page 6...\n",
            "  OCR on page 7...\n",
            "  OCR on page 8...\n",
            "  OCR on page 9...\n",
            "  OCR on page 10...\n"
          ]
        }
      ]
    },
    {
      "cell_type": "code",
      "source": [
        "output_dir = \"/content/data/ocr_texts\"\n",
        "os.makedirs(output_dir, exist_ok=True)\n",
        "\n",
        "for fname, content in ocr_outputs.items():\n",
        "    out_path = os.path.join(output_dir, fname.replace('.pdf', '.txt'))\n",
        "    with open(out_path, \"w\", encoding=\"utf-8\") as f:\n",
        "        f.write(content)\n",
        "\n",
        "print(\"\\nOCR completed. Cleaned text files saved to:\", output_dir)"
      ],
      "metadata": {
        "colab": {
          "base_uri": "https://localhost:8080/"
        },
        "id": "W58wtvfyG0R2",
        "outputId": "05cedd8c-834a-40bc-9edf-3ef84c44c9b0"
      },
      "execution_count": 15,
      "outputs": [
        {
          "output_type": "stream",
          "name": "stdout",
          "text": [
            "\n",
            "OCR completed. Cleaned text files saved to: /content/data/ocr_texts\n"
          ]
        }
      ]
    },
    {
      "cell_type": "markdown",
      "source": [
        "# Structuring Data"
      ],
      "metadata": {
        "id": "7v6D8triZp06"
      }
    },
    {
      "cell_type": "code",
      "source": [
        "input_txt_dir = \"/content/data/ocr_texts\"\n",
        "output_json_path = \"/content/data/structured/structured_text.json\"\n",
        "os.makedirs(os.path.dirname(output_json_path), exist_ok=True)"
      ],
      "metadata": {
        "id": "zRw3PFeTH_o1"
      },
      "execution_count": 16,
      "outputs": []
    },
    {
      "cell_type": "code",
      "source": [
        "structured_data = []"
      ],
      "metadata": {
        "id": "SWy0KYZQIAii"
      },
      "execution_count": 17,
      "outputs": []
    },
    {
      "cell_type": "markdown",
      "source": [
        "**JSON Formating**"
      ],
      "metadata": {
        "id": "m-BCwygpZwi_"
      }
    },
    {
      "cell_type": "code",
      "source": [
        "for txt_file in os.listdir(input_txt_dir):\n",
        "    if txt_file.endswith(\".txt\"):\n",
        "        base_name = txt_file.replace(\".txt\", \"\")\n",
        "        txt_path = os.path.join(input_txt_dir, txt_file)\n",
        "\n",
        "        with open(txt_path, \"r\", encoding=\"utf-8\") as f:\n",
        "            raw_text = f.read()\n",
        "\n",
        "        paragraphs = [p.strip() for p in raw_text.split(\"\\n\\n\") if len(p.strip()) > 30]\n",
        "\n",
        "        for idx, para in enumerate(paragraphs):\n",
        "            entry = {\n",
        "                \"id\": f\"{base_name}_pg{idx+1}\",\n",
        "                \"source\": f\"{base_name}.pdf\",\n",
        "                \"language\": \"en\",\n",
        "                \"content\": para\n",
        "            }\n",
        "            structured_data.append(entry)"
      ],
      "metadata": {
        "id": "6NCTBXqlIGTm"
      },
      "execution_count": 18,
      "outputs": []
    },
    {
      "cell_type": "code",
      "source": [
        "with open(output_json_path, \"w\", encoding=\"utf-8\") as f:\n",
        "    json.dump(structured_data, f, indent=2)\n",
        "\n",
        "print(f\"Structured {len(structured_data)} entries into: {output_json_path}\")"
      ],
      "metadata": {
        "colab": {
          "base_uri": "https://localhost:8080/"
        },
        "id": "-mriW4xyIHNa",
        "outputId": "7cdfea2c-03dc-44df-efd1-49a859b2b02e"
      },
      "execution_count": 19,
      "outputs": [
        {
          "output_type": "stream",
          "name": "stdout",
          "text": [
            "Structured 26 entries into: /content/data/structured/structured_text.json\n"
          ]
        }
      ]
    },
    {
      "cell_type": "markdown",
      "source": [
        "# Braille Corpus"
      ],
      "metadata": {
        "id": "9VThoxk1X_IH"
      }
    },
    {
      "cell_type": "markdown",
      "source": [
        "**Braille Translation**"
      ],
      "metadata": {
        "id": "ZZ_Hk7lSX3YX"
      }
    },
    {
      "cell_type": "code",
      "source": [
        "ASCII_TO_UNICODE_BRAILLE = {\n",
        "    'a': '⠁', 'b': '⠃', 'c': '⠉', 'd': '⠙', 'e': '⠑', 'f': '⠋', 'g': '⠛', 'h': '⠓',\n",
        "    'i': '⠊', 'j': '⠚', 'k': '⠅', 'l': '⠇', 'm': '⠍', 'n': '⠝', 'o': '⠕', 'p': '⠏',\n",
        "    'q': '⠟', 'r': '⠗', 's': '⠎', 't': '⠞', 'u': '⠥', 'v': '⠧', 'w': '⠺', 'x': '⠭',\n",
        "    'y': '⠽', 'z': '⠵', ' ': ' ', ',': '⠂', ';': '⠆', ':': '⠒', '.': '⠲', '!': '⠖',\n",
        "    '?': '⠦', '\\'': '⠄', '-': '⠤', '/': '⠌', '@': '⠈', '*': '⠔', '=': '⠶', '(': '⠷',\n",
        "    ')': '⠾', '+': '⠖', '$': '⠸⠎', '&': '⠯'\n",
        "}"
      ],
      "metadata": {
        "id": "5dSSPblHQF8p"
      },
      "execution_count": 20,
      "outputs": []
    },
    {
      "cell_type": "code",
      "source": [
        "def ascii_to_unicode_braille(ascii_braille):\n",
        "    return ''.join(ASCII_TO_UNICODE_BRAILLE.get(ch, '') for ch in ascii_braille)"
      ],
      "metadata": {
        "id": "adcOdKgkQTY9"
      },
      "execution_count": 21,
      "outputs": []
    },
    {
      "cell_type": "code",
      "source": [
        "import subprocess\n",
        "\n",
        "def convert_to_braille(text, lang=\"en\"):\n",
        "    if lang == \"en\":\n",
        "        table_path = \"/content/liblouis/tables/en-us-g1.ctb\"\n",
        "    else:\n",
        "        raise ValueError(\"Unsupported language\")\n",
        "\n",
        "    result = subprocess.run(\n",
        "        [\"lou_translate\", table_path],\n",
        "        input=text.encode(\"utf-8\"),\n",
        "        stdout=subprocess.PIPE,\n",
        "        stderr=subprocess.PIPE\n",
        "    )\n",
        "\n",
        "    ascii_braille = result.stdout.decode(\"utf-8\").strip()\n",
        "    return ascii_to_unicode_braille(ascii_braille)"
      ],
      "metadata": {
        "id": "PCsX_s7oQW_4"
      },
      "execution_count": 22,
      "outputs": []
    },
    {
      "cell_type": "markdown",
      "source": [
        "**Example braille conversion**"
      ],
      "metadata": {
        "id": "BxlpUriKXZIZ"
      }
    },
    {
      "cell_type": "code",
      "source": [
        "print(convert_to_braille(\"hello world\"))"
      ],
      "metadata": {
        "colab": {
          "base_uri": "https://localhost:8080/"
        },
        "id": "T6wUp6WUQZMj",
        "outputId": "7dd06fb8-6c53-4c7d-dad0-79faf823e76c"
      },
      "execution_count": 23,
      "outputs": [
        {
          "output_type": "stream",
          "name": "stdout",
          "text": [
            "⠓⠑⠇⠇⠕ ⠺⠕⠗⠇⠙\n"
          ]
        }
      ]
    },
    {
      "cell_type": "markdown",
      "source": [
        "**Structured Braille Corpus**"
      ],
      "metadata": {
        "id": "DsF_MRPzXgX5"
      }
    },
    {
      "cell_type": "code",
      "source": [
        "with open(\"/content/data/structured/structured_text.json\", \"r\", encoding=\"utf-8\") as f:\n",
        "    structured_data = json.load(f)\n",
        "\n",
        "parallel_corpus = []\n",
        "\n",
        "for entry in structured_data:\n",
        "    para = entry[\"content\"]\n",
        "    book = entry[\"source\"].replace(\".pdf\", \"\")\n",
        "    para_id = entry[\"id\"]\n",
        "\n",
        "    braille = convert_to_braille(para)\n",
        "\n",
        "    parallel_corpus.append({\n",
        "        \"braille\": braille,\n",
        "        \"content\": para,\n",
        "        \"source\": book,\n",
        "        \"id\": para_id\n",
        "    })\n",
        "\n",
        "print(f\"Generated {len(parallel_corpus)} Braille-aligned entries.\")"
      ],
      "metadata": {
        "colab": {
          "base_uri": "https://localhost:8080/"
        },
        "id": "sTQUNO-ESf_S",
        "outputId": "ae6a1d9b-20c1-40c2-a364-2b2b1abedf51"
      },
      "execution_count": 24,
      "outputs": [
        {
          "output_type": "stream",
          "name": "stdout",
          "text": [
            "Generated 26 Braille-aligned entries.\n"
          ]
        }
      ]
    },
    {
      "cell_type": "code",
      "source": [
        "os.makedirs(\"/content/data/braille\", exist_ok=True)\n",
        "\n",
        "with open(\"/content/data/braille/parallel_corpus.json\", \"w\", encoding=\"utf-8\") as f:\n",
        "    json.dump(parallel_corpus, f, ensure_ascii=False, indent=2)\n",
        "\n",
        "print(\"Saved to /content/data/braille/parallel_corpus.json\")"
      ],
      "metadata": {
        "colab": {
          "base_uri": "https://localhost:8080/"
        },
        "id": "ZjTB3feXTP4G",
        "outputId": "f02f0b7e-9ee0-4e33-e9a0-8b603f1202b4"
      },
      "execution_count": 25,
      "outputs": [
        {
          "output_type": "stream",
          "name": "stdout",
          "text": [
            "Saved to /content/data/braille/parallel_corpus.json\n"
          ]
        }
      ]
    },
    {
      "cell_type": "markdown",
      "source": [
        "**Braille Data**"
      ],
      "metadata": {
        "id": "XuD4o4-3W3Nb"
      }
    },
    {
      "cell_type": "code",
      "source": [
        "import json\n",
        "\n",
        "with open(\"/content/data/braille/parallel_corpus.json\", \"r\", encoding=\"utf-8\") as f:\n",
        "    data = json.load(f)\n",
        "\n",
        "print(f\"Total entries: {len(data)}\")\n",
        "print(data[0])"
      ],
      "metadata": {
        "colab": {
          "base_uri": "https://localhost:8080/"
        },
        "id": "CpG5zqFwUFmC",
        "outputId": "3f221424-9451-4341-f495-a4a6e3313698"
      },
      "execution_count": 26,
      "outputs": [
        {
          "output_type": "stream",
          "name": "stdout",
          "text": [
            "Total entries: 26\n",
            "{'braille': '⠂⠋⠊⠗⠎⠞ ⠏⠥⠃⠇⠊⠎⠓⠑⠙ ⠊⠝ ⠁⠊⠙⠙ ⠂⠞⠓⠊⠎ ⠺⠑⠃ ⠑⠙⠊⠞⠊⠕⠝ ⠏⠥⠃⠇⠊⠎⠓⠑⠙ ⠃⠽ ⠑⠂⠃⠕⠕⠅⠎⠁⠂⠁⠙⠑⠇⠁⠊⠙⠑ ⠂⠇⠁⠎⠞ ⠥⠏⠙⠁⠞⠑⠙ ⠂⠺⠑⠙⠝⠑⠎⠙⠁⠽ ⠂⠙⠑⠉⠑⠍⠃⠑⠗ ⠁⠛ ⠃⠚⠁⠙ ⠁⠞ ⠁⠙⠃⠚ ⠂⠞⠕ ⠞⠓⠑ ⠃⠑⠎⠞ ⠕⠋ ⠕⠥⠗ ⠅⠝⠕⠺⠇⠑⠙⠛⠑ ⠞⠓⠑ ⠞⠑⠭⠞ ⠕⠋ ⠞⠓⠊⠎ ⠺⠕⠗⠅ ⠊⠎ ⠊⠝ ⠞⠓⠑ ⠂⠏⠥⠃⠇⠊⠉ ⠂⠙⠕⠍⠁⠊⠝ ⠊⠝ ⠂⠁⠥⠎⠞⠗⠁⠇⠊⠁ ⠂⠂⠓⠕⠺⠑⠧⠑⠗ ⠉⠕⠏⠽⠗⠊⠛⠓⠞ ⠇⠁⠺ ⠧⠁⠗⠊⠑⠎ ⠊⠝ ⠕⠞⠓⠑⠗ ⠉⠕⠥⠝⠞⠗⠊⠑⠎ ⠁⠝⠙ ⠞⠓⠑ ⠺⠕⠗⠅ ⠍⠁⠽ ⠎⠞⠊⠇⠇ ⠃⠑ ⠥⠝⠙⠑⠗ ⠉⠕⠏⠽⠗⠊⠛⠓⠞ ⠊⠝ ⠞⠓⠑ ⠉⠕⠥⠝⠞⠗⠽ ⠋⠗⠕⠍ ⠺⠓⠊⠉⠓ ⠽⠕⠥ ⠁⠗⠑ ⠁⠉⠉⠑⠎⠎⠊⠝⠛ ⠞⠓⠊⠎ ⠺⠑⠃⠎⠊⠞⠑ ⠂⠊⠞ ⠊⠎ ⠽⠕⠥⠗ ⠗⠑⠎⠏⠕⠝⠎⠊⠃⠊⠇⠊⠞⠽ ⠞⠕ ⠉⠓⠑⠉⠅ ⠞⠓⠑ ⠁⠏⠏⠇⠊⠉⠁⠃⠇⠑ ⠉⠕⠏⠽⠗⠊⠛⠓⠞ ⠇⠁⠺⠎ ⠊⠝ ⠽⠕⠥⠗ ⠉⠕⠥⠝⠞⠗⠽ ⠃⠑⠋⠕⠗⠑ ⠙⠕⠺⠝⠇⠕⠁⠙⠊⠝⠛ ⠞⠓⠊⠎ ⠺⠕⠗⠅ ⠑⠂⠃⠕⠕⠅⠎⠁⠂⠁⠙⠑⠇⠁⠊⠙⠑ ⠂⠞⠓⠑ ⠂⠥⠝⠊⠧⠑⠗⠎⠊⠞⠽ ⠕⠋ ⠂⠁⠙⠑⠇⠁⠊⠙⠑ ⠂⠇⠊⠃⠗⠁⠗⠽ ⠂⠥⠝⠊⠧⠑⠗⠎⠊⠞⠽ ⠕⠋ ⠂⠁⠙⠑⠇⠁⠊⠙⠑ ⠂⠎⠕⠥⠞⠓ ⠂⠁⠥⠎⠞⠗⠁⠇⠊⠁ ⠑⠚⠚⠑ ⠖⠓⠞⠞⠏⠎⠒⠌⠌⠑⠃⠕⠕⠅⠎⠲⠁⠙⠑⠇⠁⠊⠙⠑⠲⠑⠙⠥⠲⠁⠥⠌⠕⠌⠕⠗⠺⠑⠇⠇⠌⠛⠑⠕⠗⠛⠑⠌⠕⠁⠌⠊⠝⠙⠑⠭⠲⠓⠞⠍⠇⠒ ⠂⠇⠁⠎⠞ ⠥⠏⠙⠁⠞⠑⠙ ⠂⠎⠥⠝⠙⠁⠽ ⠂⠍⠁⠗⠉⠓ ⠃⠛ ⠃⠚⠁⠋ ⠁⠞ ⠁⠁⠑⠓', 'content': 'First published in 1944. This web edition published by eBooks@Adelaide. Last updated Wednesday, December 17, 2014 at 14:20. To the best of our knowledge, the text of this work is in the Public Domain in Australia. HOWEVER, copyright law varies in other countries, and the work may still be under copyright in the country from which you are accessing this website. It is your responsibility to check the applicable copyright laws in your country before downloading this work. eBooks@Adelaide The University of Adelaide Library University of Adelaide South Australia 5005 https://ebooks.adelaide.edu.au/o/orwell/george/o79a/index.html Last updated Sunday, March 27, 2016 at 11:58', 'source': 'Animal Farm by George Orwell', 'id': 'Animal Farm by George Orwell_pg1'}\n"
          ]
        }
      ]
    },
    {
      "cell_type": "markdown",
      "source": [
        "# Downloading Final Data"
      ],
      "metadata": {
        "id": "BzDoBUDeWoYv"
      }
    },
    {
      "cell_type": "code",
      "source": [
        "import os\n",
        "from google.colab import files\n",
        "import shutil\n",
        "\n",
        "def download_folder(folder_path):\n",
        "    output_filename = os.path.basename(folder_path) + \".zip\"\n",
        "    shutil.make_archive(output_filename[:-4], 'zip', folder_path)\n",
        "    files.download(output_filename)\n",
        "\n",
        "folder_to_download = \"/content/data\"\n",
        "download_folder(folder_to_download)"
      ],
      "metadata": {
        "colab": {
          "base_uri": "https://localhost:8080/",
          "height": 17
        },
        "id": "68U8bqwGVoRd",
        "outputId": "2b2991f8-7dba-4af9-81fa-f8bdf6856b69"
      },
      "execution_count": 27,
      "outputs": [
        {
          "output_type": "display_data",
          "data": {
            "text/plain": [
              "<IPython.core.display.Javascript object>"
            ],
            "application/javascript": [
              "\n",
              "    async function download(id, filename, size) {\n",
              "      if (!google.colab.kernel.accessAllowed) {\n",
              "        return;\n",
              "      }\n",
              "      const div = document.createElement('div');\n",
              "      const label = document.createElement('label');\n",
              "      label.textContent = `Downloading \"${filename}\": `;\n",
              "      div.appendChild(label);\n",
              "      const progress = document.createElement('progress');\n",
              "      progress.max = size;\n",
              "      div.appendChild(progress);\n",
              "      document.body.appendChild(div);\n",
              "\n",
              "      const buffers = [];\n",
              "      let downloaded = 0;\n",
              "\n",
              "      const channel = await google.colab.kernel.comms.open(id);\n",
              "      // Send a message to notify the kernel that we're ready.\n",
              "      channel.send({})\n",
              "\n",
              "      for await (const message of channel.messages) {\n",
              "        // Send a message to notify the kernel that we're ready.\n",
              "        channel.send({})\n",
              "        if (message.buffers) {\n",
              "          for (const buffer of message.buffers) {\n",
              "            buffers.push(buffer);\n",
              "            downloaded += buffer.byteLength;\n",
              "            progress.value = downloaded;\n",
              "          }\n",
              "        }\n",
              "      }\n",
              "      const blob = new Blob(buffers, {type: 'application/binary'});\n",
              "      const a = document.createElement('a');\n",
              "      a.href = window.URL.createObjectURL(blob);\n",
              "      a.download = filename;\n",
              "      div.appendChild(a);\n",
              "      a.click();\n",
              "      div.remove();\n",
              "    }\n",
              "  "
            ]
          },
          "metadata": {}
        },
        {
          "output_type": "display_data",
          "data": {
            "text/plain": [
              "<IPython.core.display.Javascript object>"
            ],
            "application/javascript": [
              "download(\"download_e3e28e3c-3ac4-4b23-8e5d-d6f8110feabf\", \"data.zip\", 2611860)"
            ]
          },
          "metadata": {}
        }
      ]
    }
  ]
}